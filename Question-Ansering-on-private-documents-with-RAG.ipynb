{
 "cells": [
  {
   "cell_type": "markdown",
   "id": "cc007171-72c4-4583-aeea-90b214fe4c74",
   "metadata": {},
   "source": [
    "### RAG\r\n",
    "Implementation of Retrieval-Augmented Generation (RAG) using LangChain and Large Language Models (LLMs)"
   ]
  },
  {
   "cell_type": "code",
   "execution_count": 1,
   "id": "5629fdef-b6aa-4a63-8bfc-8a6836632ee3",
   "metadata": {},
   "outputs": [],
   "source": [
    "# pip install -r ./requirements.txt -q"
   ]
  },
  {
   "cell_type": "code",
   "execution_count": 2,
   "id": "ff079d03-5bce-411a-83df-11af5197dec1",
   "metadata": {},
   "outputs": [],
   "source": [
    "# pip install langchain-community langchain-core -q"
   ]
  },
  {
   "cell_type": "code",
   "execution_count": 3,
   "id": "695a8e60-fe4a-400c-8a73-b09b6aa53e1b",
   "metadata": {},
   "outputs": [
    {
     "name": "stdout",
     "output_type": "stream",
     "text": [
      "Name: langchain\n",
      "Version: 0.3.4\n",
      "Summary: Building applications with LLMs through composability\n",
      "Home-page: https://github.com/langchain-ai/langchain\n",
      "Author: \n",
      "Author-email: \n",
      "License: MIT\n",
      "Location: C:\\Users\\grzeg\\AppData\\Local\\Programs\\Python\\Python311\\Lib\\site-packages\n",
      "Requires: aiohttp, langchain-core, langchain-text-splitters, langsmith, numpy, pydantic, PyYAML, requests, SQLAlchemy, tenacity\n",
      "Required-by: langchain-community\n",
      "Note: you may need to restart the kernel to use updated packages.\n"
     ]
    }
   ],
   "source": [
    "pip show langchain"
   ]
  },
  {
   "cell_type": "code",
   "execution_count": 4,
   "id": "f09f8fe0-8148-4eb5-9416-a7e3971f7fcb",
   "metadata": {
    "scrolled": true
   },
   "outputs": [
    {
     "data": {
      "text/plain": [
       "True"
      ]
     },
     "execution_count": 4,
     "metadata": {},
     "output_type": "execute_result"
    }
   ],
   "source": [
    "import os\n",
    "from dotenv import load_dotenv, find_dotenv\n",
    "load_dotenv(find_dotenv(), override=True)"
   ]
  },
  {
   "cell_type": "code",
   "execution_count": 5,
   "id": "c28ee25a-a8a7-43cb-878c-ffc4f6270a6f",
   "metadata": {},
   "outputs": [],
   "source": [
    "def load_documents(files):\n",
    "    import os\n",
    "    from langchain.document_loaders import PyPDFLoader, Docx2txtLoader\n",
    "    \n",
    "    all_docs = []  # List to hold all loaded documents\n",
    "\n",
    "    for file in files:\n",
    "        name, extension = os.path.splitext(file)\n",
    "        if extension == '.pdf':\n",
    "            print(f'Loading {file}')\n",
    "            loader = PyPDFLoader(file)\n",
    "        elif extension == '.docx':\n",
    "            print(f'Loading {file}')\n",
    "            loader = Docx2txtLoader(file)\n",
    "        else:\n",
    "            print(f'Document format for {file} is not supported')\n",
    "            continue  # Skip unsupported files\n",
    "        \n",
    "        docs = loader.load()  # Load documents\n",
    "        all_docs.extend(docs)  # Add loaded documents to the list\n",
    "\n",
    "    return all_docs\n",
    "\n",
    "# List of files to load\n",
    "file_list = [\n",
    "    \"files/eu_ecodesign_directive_2019_2020.pdf\",\n",
    "    \"files/eu_energy_labeling_directive_2017_1369.pdf\",\n",
    "    \"files/eu_low_voltage_directive_2014_35_EU.pdf\",\n",
    "    \"files/Rohs_directive_ 2011_65_EU.pdf\"\n",
    "]\n",
    "\n"
   ]
  },
  {
   "cell_type": "code",
   "execution_count": 6,
   "id": "a4d5a302-7450-4298-8ad0-6c5c1b45b10e",
   "metadata": {},
   "outputs": [],
   "source": [
    "def chunk_data(data, chunk_size=256):\n",
    "    from langchain.text_splitter import RecursiveCharacterTextSplitter\n",
    "    text_splitter = RecursiveCharacterTextSplitter(chunk_size=chunk_size, chunk_overlap=0)\n",
    "    chunks = text_splitter.split_documents(data)\n",
    "    return chunks\n",
    "    "
   ]
  },
  {
   "cell_type": "code",
   "execution_count": 7,
   "id": "4e2745ed-f11e-4185-a583-a76336fc2ffb",
   "metadata": {},
   "outputs": [],
   "source": [
    "def embedding_cost(texts):\n",
    "    import tiktoken\n",
    "    enc = tiktoken.encoding_for_model('text-embedding-ada-002')\n",
    "    total_tokens = sum([len(enc.encode(page.page_content)) for page in texts])\n",
    "    print(f'Total tokens: {total_tokens}')\n",
    "    print(f' Embedding cost in USD: {total_tokens / 1000 * 0.0004:.6f}')"
   ]
  },
  {
   "cell_type": "code",
   "execution_count": 23,
   "id": "bbe4320d-d5e9-495d-a0b9-849bfb909d72",
   "metadata": {},
   "outputs": [],
   "source": [
    "def insert_embeddings(index, chunks):\n",
    "    import pinecone\n",
    "    from langchain_community.vectorstores import Pinecone\n",
    "    from langchain_openai import OpenAIEmbeddings\n",
    "    from pinecone import PodSpec\n",
    "\n",
    "    pc = pinecone.Pinecone()\n",
    "    embeddings = OpenAIEmbeddings(model='text-embedding-3-small', dimensions=1536)\n",
    "\n",
    "    if index_name in pc.list_indexes().names():\n",
    "        print(f' Index {index_name} alredy exist. Loading embeddings...', end='')\n",
    "        vector_store = Pinecone.from_existing_index(index_name, embeddings)\n",
    "        print('Ok')\n",
    "\n",
    "    else:\n",
    "        print(f'Creating index {index_name} and embeddings ...', end='')\n",
    "        pc.create_index(\n",
    "            name=index_name,\n",
    "            dimension=1536,\n",
    "            metric='cosine',\n",
    "            spec=PodSpec(environment='gcp-starter')\n",
    "        \n",
    "        )\n",
    "        vector_store = Pinecone.from_documents(chunks, embeddings, index_name=index_name)\n",
    "        print(\"Ok\")\n",
    "        return vector_store\n",
    "            "
   ]
  },
  {
   "cell_type": "code",
   "execution_count": 9,
   "id": "b7bc8072-798f-43e7-a2f3-2134f61296c4",
   "metadata": {},
   "outputs": [],
   "source": [
    "def delete_pinecone_index(index_name='all'):\n",
    "    import pinecone\n",
    "    pc = pinceone.Pinecone()\n",
    "    if index_name == 'all':\n",
    "        indexes = pc.list_indexes().names()\n",
    "        print(\"Deleting all indexes\", end='')\n",
    "        for index in indexes:\n",
    "            pc.delete_index(index)\n",
    "        print('OK')\n",
    "    else:\n",
    "        print(f\"Deleting index {index_name}\", end='')\n",
    "        pc.delete_index(index_name)\n",
    "        print(\"Ok\")"
   ]
  },
  {
   "cell_type": "markdown",
   "id": "6c678aca-de55-4fc9-9c28-5c7e8b6f7fec",
   "metadata": {},
   "source": [
    "### Q&A"
   ]
  },
  {
   "cell_type": "code",
   "execution_count": 31,
   "id": "c23bfb6f-9d06-49cc-94eb-7f7ec16149b8",
   "metadata": {},
   "outputs": [],
   "source": [
    "def ask_and_get_response(vector_store, q):\n",
    "    from langchain.chains import RetrievalQA\n",
    "    from langchain.chat_models import ChatOpenAI\n",
    "\n",
    "    llm = ChatOpenAI(model='gpt-3.5-turbo', temperature=1)\n",
    "\n",
    "    retriever = vector_store.as_retriever(search_type='similarity', search_kwargs={'k':3})\n",
    "\n",
    "    chain = RetrievalQA.from_chain_type(llm=llm, chain_type='stuff', retriever=retriever)\n",
    "    answer = chain.invoke(q)\n",
    "    return answer"
   ]
  },
  {
   "cell_type": "markdown",
   "id": "46071793-e71e-40ec-a3fe-e22e4276d6df",
   "metadata": {},
   "source": [
    "### Testing code"
   ]
  },
  {
   "cell_type": "code",
   "execution_count": 10,
   "id": "bbd3d1c2-584f-4e2c-a3ed-ff76d9d9dcb8",
   "metadata": {},
   "outputs": [
    {
     "name": "stdout",
     "output_type": "stream",
     "text": [
      "Loading files/eu_ecodesign_directive_2019_2020.pdf\n",
      "Loading files/eu_energy_labeling_directive_2017_1369.pdf\n",
      "Loading files/eu_low_voltage_directive_2014_35_EU.pdf\n",
      "Loading files/Rohs_directive_ 2011_65_EU.pdf\n",
      "You have 96 pages loaded in total.\n"
     ]
    }
   ],
   "source": [
    "data = load_documents(file_list)\n",
    "\n",
    "print(f'You have {len(data)} pages loaded in total.')"
   ]
  },
  {
   "cell_type": "code",
   "execution_count": 11,
   "id": "3c6a2a12-3933-4423-9e4f-3842ad48879e",
   "metadata": {},
   "outputs": [
    {
     "name": "stdout",
     "output_type": "stream",
     "text": [
      "1507\n"
     ]
    }
   ],
   "source": [
    "chunks = chunk_data(data)\n",
    "print(len(chunks))"
   ]
  },
  {
   "cell_type": "code",
   "execution_count": 12,
   "id": "abd21c4d-f563-4841-8d31-81b76db0e929",
   "metadata": {},
   "outputs": [
    {
     "name": "stdout",
     "output_type": "stream",
     "text": [
      "Total tokens: 74246\n",
      " Embedding cost in USD: 0.029698\n",
      "None\n"
     ]
    }
   ],
   "source": [
    "print(embedding_cost(chunks))"
   ]
  },
  {
   "cell_type": "code",
   "execution_count": 24,
   "id": "a8ae284a-d428-42ab-b971-3e174358e187",
   "metadata": {},
   "outputs": [
    {
     "name": "stdout",
     "output_type": "stream",
     "text": [
      "Creating index askadokument and embeddings ...Ok\n"
     ]
    }
   ],
   "source": [
    "index_name = 'askadokument'\n",
    "vector_store = insert_embeddings(index_name, chunks)\n"
   ]
  },
  {
   "cell_type": "code",
   "execution_count": 32,
   "id": "84a9592f-f51f-4a7d-8fcb-833ecb8618a1",
   "metadata": {},
   "outputs": [
    {
     "name": "stdout",
     "output_type": "stream",
     "text": [
      "{'query': 'what is the whole document about', 'result': 'The provided context seems to be excerpts from a directive or regulation related to technical documentation and compliance requirements for products in the European Union. The document likely outlines specific criteria and procedures that manufacturers need to follow to demonstrate compliance with EU regulations, including the mandatory parts of technical documentation that must be entered into a database. It appears to cover aspects such as product identification, technical specifications, and compliance verification processes.'}\n"
     ]
    }
   ],
   "source": [
    "q = \"what is the whole document about\"\n",
    "answer = ask_and_get_response(vector_store, q)\n",
    "print(answer)"
   ]
  },
  {
   "cell_type": "code",
   "execution_count": null,
   "id": "3ac85e36-0698-49e5-a726-7c89585f587c",
   "metadata": {},
   "outputs": [
    {
     "name": "stdout",
     "output_type": "stream",
     "text": [
      "Write q or e for exit\n"
     ]
    },
    {
     "name": "stdin",
     "output_type": "stream",
     "text": [
      "Question #1 is there an artcle about: Procedure for dealing with electrical equipment presenting a risk at national level?\n"
     ]
    },
    {
     "name": "stdout",
     "output_type": "stream",
     "text": [
      "\n",
      "Answer: {'query': 'is there an artcle about: Procedure for dealing with electrical equipment presenting a risk at national level?', 'result': 'Yes, the excerpt provided is from Article 19 of a directive that discusses the procedure for dealing with electrical equipment presenting a risk at the national level.'}\n",
      "\n",
      " -------------------------------------------------- \n",
      "\n"
     ]
    },
    {
     "name": "stdin",
     "output_type": "stream",
     "text": [
      "Question #2 Can you explain it?\n"
     ]
    },
    {
     "name": "stdout",
     "output_type": "stream",
     "text": [
      "\n",
      "Answer: {'query': 'Can you explain it?', 'result': \"I don't have enough context to provide a specific explanation. It seems to be referring to regulations related to electrical equipment and exemptions within the European Union. If you have a specific question or need clarification on a particular point, feel free to ask.\"}\n",
      "\n",
      " -------------------------------------------------- \n",
      "\n"
     ]
    }
   ],
   "source": [
    "import time\n",
    "i=1\n",
    "print(\"Write q or e for exit\")\n",
    "while True:\n",
    "    q = input(f'Question #{i}')\n",
    "    i += 1\n",
    "    if q.lower() in ['q', 'e']:\n",
    "        print(\"Exiting...\")\n",
    "        time.sleep(2)\n",
    "        break\n",
    "    answer = ask_and_get_response(vector_store, q)\n",
    "    print(f'\\nAnswer: {answer}')\n",
    "    print(f'\\n {\"-\" * 50} \\n')\n",
    "        \n",
    "    \n",
    "    "
   ]
  },
  {
   "cell_type": "code",
   "execution_count": null,
   "id": "9463a80d-7e2b-4cb6-96c5-33d34a097e93",
   "metadata": {},
   "outputs": [],
   "source": []
  },
  {
   "cell_type": "code",
   "execution_count": null,
   "id": "9c6fe783-63a8-4599-9ac9-39f985a5af0f",
   "metadata": {},
   "outputs": [],
   "source": []
  }
 ],
 "metadata": {
  "kernelspec": {
   "display_name": "Python 3 (ipykernel)",
   "language": "python",
   "name": "python3"
  },
  "language_info": {
   "codemirror_mode": {
    "name": "ipython",
    "version": 3
   },
   "file_extension": ".py",
   "mimetype": "text/x-python",
   "name": "python",
   "nbconvert_exporter": "python",
   "pygments_lexer": "ipython3",
   "version": "3.11.3"
  }
 },
 "nbformat": 4,
 "nbformat_minor": 5
}
